{
 "cells": [
  {
   "cell_type": "markdown",
   "id": "a70cea55-a494-4a88-9c4a-2ad781d7a086",
   "metadata": {},
   "source": [
    "# Smartchain.bet\n",
    "\n",
    "## A P2P Betting Blockchain-based Platform\n",
    "\n",
    "### What is the bet lifecycle?\n",
    "\n",
    "##### Events Created ==> OpenBet ==> AcceptBet ==> ResolveBet\n",
    "#####\n",
    "Events could terminate because one of 3 reasons:\n",
    "- Resolve Bet\n",
    "- Terminate Bet - for one bet\n",
    "- Terminate all\n",
    "\n",
    "Both \"Terminate Bet\" and \"Terminate all\" restitue the tokens to the e-wallet that had made the bet and depending on the state, as follows:\n",
    "\n",
    "- if it is an open,restitute only to the BetInitiator\n",
    "- If it is an accepted bet, restitute to both the BetInitiator and BetAcceptor"
   ]
  },
  {
   "cell_type": "markdown",
   "id": "373f32b2-5336-4c6b-86c7-11e4ec9f28c6",
   "metadata": {},
   "source": [
    "### 1. Events are created"
   ]
  },
  {
   "cell_type": "code",
   "execution_count": 1,
   "id": "a12dbdca-8cb3-4f94-bae5-ddd976cfde79",
   "metadata": {},
   "outputs": [],
   "source": [
    "import requests\n",
    "import json\n",
    "from dotenv import load_dotenv\n",
    "import pandas as pd\n",
    "import os\n",
    "import sys\n",
    "# from crypto import convertDataToJSON, pinJSONtoIPFS, initContract, w3\n",
    "from pathlib import Path\n",
    "from web3 import Web3\n",
    "# from web3.auto import w3\n",
    "import numpy\n",
    "import time"
   ]
  },
  {
   "cell_type": "code",
   "execution_count": 2,
   "id": "77750e9d-350e-4a28-9aa1-aa0c155e8ffa",
   "metadata": {},
   "outputs": [],
   "source": [
    "import abi"
   ]
  },
  {
   "cell_type": "code",
   "execution_count": 3,
   "id": "707bc6b4-9cef-4e4c-bf45-c800fd36e52f",
   "metadata": {},
   "outputs": [
    {
     "data": {
      "text/plain": [
       "'[\\n\\t{\\n\\t\\t\"constant\": false,\\n\\t\\t\"inputs\": [\\n\\t\\t\\t{\\n\\t\\t\\t\\t\"name\": \"_event_id\",\\n\\t\\t\\t\\t\"type\": \"uint256\"\\n\\t\\t\\t},\\n\\t\\t\\t{\\n\\t\\t\\t\\t\"name\": \"_bet_id\",\\n\\t\\t\\t\\t\"type\": \"uint256\"\\n\\t\\t\\t},\\n\\t\\t\\t{\\n\\t\\t\\t\\t\"name\": \"_team_id\",\\n\\t\\t\\t\\t\"type\": \"uint256\"\\n\\t\\t\\t},\\n\\t\\t\\t{\\n\\t\\t\\t\\t\"name\": \"_bet_balance\",\\n\\t\\t\\t\\t\"type\": \"uint256\"\\n\\t\\t\\t}\\n\\t\\t],\\n\\t\\t\"name\": \"acceptBet\",\\n\\t\\t\"outputs\": [],\\n\\t\\t\"payable\": true,\\n\\t\\t\"stateMutability\": \"payable\",\\n\\t\\t\"type\": \"function\"\\n\\t},\\n\\t{\\n\\t\\t\"anonymous\": false,\\n\\t\\t\"inputs\": [\\n\\t\\t\\t{\\n\\t\\t\\t\\t\"indexed\": true,\\n\\t\\t\\t\\t\"name\": \"event_id\",\\n\\t\\t\\t\\t\"type\": \"uint256\"\\n\\t\\t\\t},\\n\\t\\t\\t{\\n\\t\\t\\t\\t\"indexed\": false,\\n\\t\\t\\t\\t\"name\": \"event_date\",\\n\\t\\t\\t\\t\"type\": \"uint256\"\\n\\t\\t\\t},\\n\\t\\t\\t{\\n\\t\\t\\t\\t\"indexed\": false,\\n\\t\\t\\t\\t\"name\": \"teamH_id\",\\n\\t\\t\\t\\t\"type\": \"uint256\"\\n\\t\\t\\t},\\n\\t\\t\\t{\\n\\t\\t\\t\\t\"indexed\": false,\\n\\t\\t\\t\\t\"name\": \"teamA_id\",\\n\\t\\t\\t\\t\"type\": \"uint256\"\\n\\t\\t\\t},\\n\\t\\t\\t{\\n\\t\\t\\t\\t\"indexed\": false,\\n\\t\\t\\t\\t\"name\": \"active\",\\n\\t\\t\\t\\t\"type\": \"bool\"\\n\\t\\t\\t}\\n\\t\\t],\\n\\t\\t\"name\": \"LogPublishEvent\",\\n\\t\\t\"type\": \"event\"\\n\\t},\\n\\t{\\n\\t\\t\"anonymous\": false,\\n\\t\\t\"inputs\": [\\n\\t\\t\\t{\\n\\t\\t\\t\\t\"indexed\": true,\\n\\t\\t\\t\\t\"name\": \"event_id\",\\n\\t\\t\\t\\t\"type\": \"uint256\"\\n\\t\\t\\t},\\n\\t\\t\\t{\\n\\t\\t\\t\\t\"indexed\": true,\\n\\t\\t\\t\\t\"name\": \"bet_id\",\\n\\t\\t\\t\\t\"type\": \"uint256\"\\n\\t\\t\\t},\\n\\t\\t\\t{\\n\\t\\t\\t\\t\"indexed\": false,\\n\\t\\t\\t\\t\"name\": \"accept_date\",\\n\\t\\t\\t\\t\"type\": \"uint256\"\\n\\t\\t\\t},\\n\\t\\t\\t{\\n\\t\\t\\t\\t\"indexed\": true,\\n\\t\\t\\t\\t\"name\": \"betInitiator\",\\n\\t\\t\\t\\t\"type\": \"address\"\\n\\t\\t\\t},\\n\\t\\t\\t{\\n\\t\\t\\t\\t\"indexed\": false,\\n\\t\\t\\t\\t\"name\": \"betAcceptor\",\\n\\t\\t\\t\\t\"type\": \"address\"\\n\\t\\t\\t},\\n\\t\\t\\t{\\n\\t\\t\\t\\t\"indexed\": false,\\n\\t\\t\\t\\t\"name\": \"teamH_id\",\\n\\t\\t\\t\\t\"type\": \"uint256\"\\n\\t\\t\\t},\\n\\t\\t\\t{\\n\\t\\t\\t\\t\"indexed\": false,\\n\\t\\t\\t\\t\"name\": \"teamA_id\",\\n\\t\\t\\t\\t\"type\": \"uint256\"\\n\\t\\t\\t},\\n\\t\\t\\t{\\n\\t\\t\\t\\t\"indexed\": false,\\n\\t\\t\\t\\t\"name\": \"initiator_bet\",\\n\\t\\t\\t\\t\"type\": \"uint256\"\\n\\t\\t\\t},\\n\\t\\t\\t{\\n\\t\\t\\t\\t\"indexed\": false,\\n\\t\\t\\t\\t\"name\": \"acceptor_bet\",\\n\\t\\t\\t\\t\"type\": \"uint256\"\\n\\t\\t\\t},\\n\\t\\t\\t{\\n\\t\\t\\t\\t\"indexed\": false,\\n\\t\\t\\t\\t\"name\": \"bet_balance\",\\n\\t\\t\\t\\t\"type\": \"uint256\"\\n\\t\\t\\t}\\n\\t\\t],\\n\\t\\t\"name\": \"LogOpenBet\",\\n\\t\\t\"type\": \"event\"\\n\\t},\\n\\t{\\n\\t\\t\"anonymous\": false,\\n\\t\\t\"inputs\": [\\n\\t\\t\\t{\\n\\t\\t\\t\\t\"indexed\": true,\\n\\t\\t\\t\\t\"name\": \"event_id\",\\n\\t\\t\\t\\t\"type\": \"uint256\"\\n\\t\\t\\t},\\n\\t\\t\\t{\\n\\t\\t\\t\\t\"indexed\": true,\\n\\t\\t\\t\\t\"name\": \"bet_id\",\\n\\t\\t\\t\\t\"type\": \"uint256\"\\n\\t\\t\\t},\\n\\t\\t\\t{\\n\\t\\t\\t\\t\"indexed\": false,\\n\\t\\t\\t\\t\"name\": \"accept_date\",\\n\\t\\t\\t\\t\"type\": \"uint256\"\\n\\t\\t\\t},\\n\\t\\t\\t{\\n\\t\\t\\t\\t\"indexed\": true,\\n\\t\\t\\t\\t\"name\": \"betInitiator\",\\n\\t\\t\\t\\t\"type\": \"address\"\\n\\t\\t\\t},\\n\\t\\t\\t{\\n\\t\\t\\t\\t\"indexed\": false,\\n\\t\\t\\t\\t\"name\": \"betAcceptor\",\\n\\t\\t\\t\\t\"type\": \"address\"\\n\\t\\t\\t},\\n\\t\\t\\t{\\n\\t\\t\\t\\t\"indexed\": false,\\n\\t\\t\\t\\t\"name\": \"teamH_id\",\\n\\t\\t\\t\\t\"type\": \"uint256\"\\n\\t\\t\\t},\\n\\t\\t\\t{\\n\\t\\t\\t\\t\"indexed\": false,\\n\\t\\t\\t\\t\"name\": \"teamA_id\",\\n\\t\\t\\t\\t\"type\": \"uint256\"\\n\\t\\t\\t},\\n\\t\\t\\t{\\n\\t\\t\\t\\t\"indexed\": false,\\n\\t\\t\\t\\t\"name\": \"initiator_bet\",\\n\\t\\t\\t\\t\"type\": \"uint256\"\\n\\t\\t\\t},\\n\\t\\t\\t{\\n\\t\\t\\t\\t\"indexed\": false,\\n\\t\\t\\t\\t\"name\": \"acceptor_bet\",\\n\\t\\t\\t\\t\"type\": \"uint256\"\\n\\t\\t\\t},\\n\\t\\t\\t{\\n\\t\\t\\t\\t\"indexed\": false,\\n\\t\\t\\t\\t\"name\": \"bet_balance\",\\n\\t\\t\\t\\t\"type\": \"uint256\"\\n\\t\\t\\t}\\n\\t\\t],\\n\\t\\t\"name\": \"LogAcceptBet\",\\n\\t\\t\"type\": \"event\"\\n\\t},\\n\\t{\\n\\t\\t\"anonymous\": false,\\n\\t\\t\"inputs\": [\\n\\t\\t\\t{\\n\\t\\t\\t\\t\"indexed\": true,\\n\\t\\t\\t\\t\"name\": \"event_id\",\\n\\t\\t\\t\\t\"type\": \"uint256\"\\n\\t\\t\\t},\\n\\t\\t\\t{\\n\\t\\t\\t\\t\"indexed\": true,\\n\\t\\t\\t\\t\"name\": \"bet_id\",\\n\\t\\t\\t\\t\"type\": \"uint256\"\\n\\t\\t\\t},\\n\\t\\t\\t{\\n\\t\\t\\t\\t\"indexed\": false,\\n\\t\\t\\t\\t\"name\": \"resolve_date\",\\n\\t\\t\\t\\t\"type\": \"uint256\"\\n\\t\\t\\t},\\n\\t\\t\\t{\\n\\t\\t\\t\\t\"indexed\": false,\\n\\t\\t\\t\\t\"name\": \"betInitiator\",\\n\\t\\t\\t\\t\"type\": \"address\"\\n\\t\\t\\t},\\n\\t\\t\\t{\\n\\t\\t\\t\\t\"indexed\": false,\\n\\t\\t\\t\\t\"name\": \"betAcceptor\",\\n\\t\\t\\t\\t\"type\": \"address\"\\n\\t\\t\\t},\\n\\t\\t\\t{\\n\\t\\t\\t\\t\"indexed\": false,\\n\\t\\t\\t\\t\"name\": \"wager\",\\n\\t\\t\\t\\t\"type\": \"uint256\"\\n\\t\\t\\t},\\n\\t\\t\\t{\\n\\t\\t\\t\\t\"indexed\": false,\\n\\t\\t\\t\\t\"name\": \"acceptorWins\",\\n\\t\\t\\t\\t\"type\": \"bool\"\\n\\t\\t\\t},\\n\\t\\t\\t{\\n\\t\\t\\t\\t\"indexed\": false,\\n\\t\\t\\t\\t\"name\": \"payout\",\\n\\t\\t\\t\\t\"type\": \"uint256\"\\n\\t\\t\\t},\\n\\t\\t\\t{\\n\\t\\t\\t\\t\"indexed\": false,\\n\\t\\t\\t\\t\"name\": \"fee\",\\n\\t\\t\\t\\t\"type\": \"uint256\"\\n\\t\\t\\t}\\n\\t\\t],\\n\\t\\t\"name\": \"LogResolveBet\",\\n\\t\\t\"type\": \"event\"\\n\\t},\\n\\t{\\n\\t\\t\"constant\": false,\\n\\t\\t\"inputs\": [\\n\\t\\t\\t{\\n\\t\\t\\t\\t\"name\": \"_event_id\",\\n\\t\\t\\t\\t\"type\": \"uint256\"\\n\\t\\t\\t},\\n\\t\\t\\t{\\n\\t\\t\\t\\t\"name\": \"_event_bet_id\",\\n\\t\\t\\t\\t\"type\": \"uint256\"\\n\\t\\t\\t},\\n\\t\\t\\t{\\n\\t\\t\\t\\t\"name\": \"_bet_id\",\\n\\t\\t\\t\\t\"type\": \"uint256\"\\n\\t\\t\\t},\\n\\t\\t\\t{\\n\\t\\t\\t\\t\"name\": \"_bet_team_id\",\\n\\t\\t\\t\\t\"type\": \"uint256\"\\n\\t\\t\\t},\\n\\t\\t\\t{\\n\\t\\t\\t\\t\"name\": \"_bet_balance\",\\n\\t\\t\\t\\t\"type\": \"uint256\"\\n\\t\\t\\t}\\n\\t\\t],\\n\\t\\t\"name\": \"OpenBet\",\\n\\t\\t\"outputs\": [],\\n\\t\\t\"payable\": true,\\n\\t\\t\"stateMutability\": \"payable\",\\n\\t\\t\"type\": \"function\"\\n\\t},\\n\\t{\\n\\t\\t\"constant\": false,\\n\\t\\t\"inputs\": [\\n\\t\\t\\t{\\n\\t\\t\\t\\t\"name\": \"_event_id\",\\n\\t\\t\\t\\t\"type\": \"uint256\"\\n\\t\\t\\t},\\n\\t\\t\\t{\\n\\t\\t\\t\\t\"name\": \"_event_date\",\\n\\t\\t\\t\\t\"type\": \"uint256\"\\n\\t\\t\\t},\\n\\t\\t\\t{\\n\\t\\t\\t\\t\"name\": \"_home_team\",\\n\\t\\t\\t\\t\"type\": \"uint256\"\\n\\t\\t\\t},\\n\\t\\t\\t{\\n\\t\\t\\t\\t\"name\": \"_away_team\",\\n\\t\\t\\t\\t\"type\": \"uint256\"\\n\\t\\t\\t}\\n\\t\\t],\\n\\t\\t\"name\": \"publishEvent\",\\n\\t\\t\"outputs\": [],\\n\\t\\t\"payable\": true,\\n\\t\\t\"stateMutability\": \"payable\",\\n\\t\\t\"type\": \"function\"\\n\\t},\\n\\t{\\n\\t\\t\"constant\": false,\\n\\t\\t\"inputs\": [\\n\\t\\t\\t{\\n\\t\\t\\t\\t\"name\": \"_event_id\",\\n\\t\\t\\t\\t\"type\": \"uint256\"\\n\\t\\t\\t},\\n\\t\\t\\t{\\n\\t\\t\\t\\t\"name\": \"_bet_id\",\\n\\t\\t\\t\\t\"type\": \"uint256\"\\n\\t\\t\\t},\\n\\t\\t\\t{\\n\\t\\t\\t\\t\"name\": \"_acceptor_wins\",\\n\\t\\t\\t\\t\"type\": \"bool\"\\n\\t\\t\\t}\\n\\t\\t],\\n\\t\\t\"name\": \"resolveBet\",\\n\\t\\t\"outputs\": [],\\n\\t\\t\"payable\": true,\\n\\t\\t\"stateMutability\": \"payable\",\\n\\t\\t\"type\": \"function\"\\n\\t},\\n\\t{\\n\\t\\t\"constant\": false,\\n\\t\\t\"inputs\": [],\\n\\t\\t\"name\": \"terminateAll\",\\n\\t\\t\"outputs\": [],\\n\\t\\t\"payable\": true,\\n\\t\\t\"stateMutability\": \"payable\",\\n\\t\\t\"type\": \"function\"\\n\\t},\\n\\t{\\n\\t\\t\"constant\": false,\\n\\t\\t\"inputs\": [\\n\\t\\t\\t{\\n\\t\\t\\t\\t\"name\": \"_bet_id\",\\n\\t\\t\\t\\t\"type\": \"uint256\"\\n\\t\\t\\t}\\n\\t\\t],\\n\\t\\t\"name\": \"terminateOne\",\\n\\t\\t\"outputs\": [],\\n\\t\\t\"payable\": true,\\n\\t\\t\"stateMutability\": \"payable\",\\n\\t\\t\"type\": \"function\"\\n\\t},\\n\\t{\\n\\t\\t\"payable\": true,\\n\\t\\t\"stateMutability\": \"payable\",\\n\\t\\t\"type\": \"fallback\"\\n\\t},\\n\\t{\\n\\t\\t\"constant\": true,\\n\\t\\t\"inputs\": [\\n\\t\\t\\t{\\n\\t\\t\\t\\t\"name\": \"\",\\n\\t\\t\\t\\t\"type\": \"uint256\"\\n\\t\\t\\t}\\n\\t\\t],\\n\\t\\t\"name\": \"bets\",\\n\\t\\t\"outputs\": [\\n\\t\\t\\t{\\n\\t\\t\\t\\t\"name\": \"event_id\",\\n\\t\\t\\t\\t\"type\": \"uint256\"\\n\\t\\t\\t},\\n\\t\\t\\t{\\n\\t\\t\\t\\t\"name\": \"bet_id\",\\n\\t\\t\\t\\t\"type\": \"uint256\"\\n\\t\\t\\t},\\n\\t\\t\\t{\\n\\t\\t\\t\\t\"name\": \"event_date\",\\n\\t\\t\\t\\t\"type\": \"uint256\"\\n\\t\\t\\t},\\n\\t\\t\\t{\\n\\t\\t\\t\\t\"name\": \"betInitiator\",\\n\\t\\t\\t\\t\"type\": \"address\"\\n\\t\\t\\t},\\n\\t\\t\\t{\\n\\t\\t\\t\\t\"name\": \"betAcceptor\",\\n\\t\\t\\t\\t\"type\": \"address\"\\n\\t\\t\\t},\\n\\t\\t\\t{\\n\\t\\t\\t\\t\"name\": \"teamH_id\",\\n\\t\\t\\t\\t\"type\": \"uint256\"\\n\\t\\t\\t},\\n\\t\\t\\t{\\n\\t\\t\\t\\t\"name\": \"teamA_id\",\\n\\t\\t\\t\\t\"type\": \"uint256\"\\n\\t\\t\\t},\\n\\t\\t\\t{\\n\\t\\t\\t\\t\"name\": \"InitiatorTeamID_wins\",\\n\\t\\t\\t\\t\"type\": \"uint256\"\\n\\t\\t\\t},\\n\\t\\t\\t{\\n\\t\\t\\t\\t\"name\": \"AcceptorTeamID_wins\",\\n\\t\\t\\t\\t\"type\": \"uint256\"\\n\\t\\t\\t},\\n\\t\\t\\t{\\n\\t\\t\\t\\t\"name\": \"bet_balance\",\\n\\t\\t\\t\\t\"type\": \"uint256\"\\n\\t\\t\\t},\\n\\t\\t\\t{\\n\\t\\t\\t\\t\"name\": \"active\",\\n\\t\\t\\t\\t\"type\": \"bool\"\\n\\t\\t\\t}\\n\\t\\t],\\n\\t\\t\"payable\": false,\\n\\t\\t\"stateMutability\": \"view\",\\n\\t\\t\"type\": \"function\"\\n\\t},\\n\\t{\\n\\t\\t\"constant\": true,\\n\\t\\t\"inputs\": [\\n\\t\\t\\t{\\n\\t\\t\\t\\t\"name\": \"\",\\n\\t\\t\\t\\t\"type\": \"uint256\"\\n\\t\\t\\t}\\n\\t\\t],\\n\\t\\t\"name\": \"games\",\\n\\t\\t\"outputs\": [\\n\\t\\t\\t{\\n\\t\\t\\t\\t\"name\": \"event_id\",\\n\\t\\t\\t\\t\"type\": \"uint256\"\\n\\t\\t\\t},\\n\\t\\t\\t{\\n\\t\\t\\t\\t\"name\": \"event_date\",\\n\\t\\t\\t\\t\"type\": \"uint256\"\\n\\t\\t\\t},\\n\\t\\t\\t{\\n\\t\\t\\t\\t\"name\": \"teamH_id\",\\n\\t\\t\\t\\t\"type\": \"uint256\"\\n\\t\\t\\t},\\n\\t\\t\\t{\\n\\t\\t\\t\\t\"name\": \"teamA_id\",\\n\\t\\t\\t\\t\"type\": \"uint256\"\\n\\t\\t\\t},\\n\\t\\t\\t{\\n\\t\\t\\t\\t\"name\": \"active\",\\n\\t\\t\\t\\t\"type\": \"bool\"\\n\\t\\t\\t}\\n\\t\\t],\\n\\t\\t\"payable\": false,\\n\\t\\t\"stateMutability\": \"view\",\\n\\t\\t\"type\": \"function\"\\n\\t},\\n\\t{\\n\\t\\t\"constant\": true,\\n\\t\\t\"inputs\": [],\\n\\t\\t\"name\": \"getAvailableBets\",\\n\\t\\t\"outputs\": [\\n\\t\\t\\t{\\n\\t\\t\\t\\t\"name\": \"\",\\n\\t\\t\\t\\t\"type\": \"uint256[]\"\\n\\t\\t\\t}\\n\\t\\t],\\n\\t\\t\"payable\": false,\\n\\t\\t\"stateMutability\": \"view\",\\n\\t\\t\"type\": \"function\"\\n\\t},\\n\\t{\\n\\t\\t\"constant\": true,\\n\\t\\t\"inputs\": [],\\n\\t\\t\"name\": \"getAvailableEvents\",\\n\\t\\t\"outputs\": [\\n\\t\\t\\t{\\n\\t\\t\\t\\t\"name\": \"\",\\n\\t\\t\\t\\t\"type\": \"uint256[]\"\\n\\t\\t\\t}\\n\\t\\t],\\n\\t\\t\"payable\": false,\\n\\t\\t\"stateMutability\": \"view\",\\n\\t\\t\"type\": \"function\"\\n\\t},\\n\\t{\\n\\t\\t\"constant\": true,\\n\\t\\t\"inputs\": [],\\n\\t\\t\"name\": \"getContractBalance\",\\n\\t\\t\"outputs\": [\\n\\t\\t\\t{\\n\\t\\t\\t\\t\"name\": \"\",\\n\\t\\t\\t\\t\"type\": \"uint256\"\\n\\t\\t\\t}\\n\\t\\t],\\n\\t\\t\"payable\": false,\\n\\t\\t\"stateMutability\": \"view\",\\n\\t\\t\"type\": \"function\"\\n\\t},\\n\\t{\\n\\t\\t\"constant\": true,\\n\\t\\t\"inputs\": [],\\n\\t\\t\"name\": \"getMatchedBets\",\\n\\t\\t\"outputs\": [\\n\\t\\t\\t{\\n\\t\\t\\t\\t\"name\": \"\",\\n\\t\\t\\t\\t\"type\": \"uint256[]\"\\n\\t\\t\\t}\\n\\t\\t],\\n\\t\\t\"payable\": false,\\n\\t\\t\"stateMutability\": \"view\",\\n\\t\\t\"type\": \"function\"\\n\\t},\\n\\t{\\n\\t\\t\"constant\": true,\\n\\t\\t\"inputs\": [],\\n\\t\\t\"name\": \"getResolvedBets\",\\n\\t\\t\"outputs\": [\\n\\t\\t\\t{\\n\\t\\t\\t\\t\"name\": \"\",\\n\\t\\t\\t\\t\"type\": \"uint256[]\"\\n\\t\\t\\t}\\n\\t\\t],\\n\\t\\t\"payable\": false,\\n\\t\\t\"stateMutability\": \"view\",\\n\\t\\t\"type\": \"function\"\\n\\t}\\n]'"
      ]
     },
     "execution_count": 3,
     "metadata": {},
     "output_type": "execute_result"
    }
   ],
   "source": [
    "abi = abi.abi\n",
    "abi"
   ]
  },
  {
   "cell_type": "code",
   "execution_count": 11,
   "id": "533ace8e-1fb5-4463-b3c0-3ad38128608d",
   "metadata": {},
   "outputs": [],
   "source": [
    "def loadEvents(date_str):\n",
    "    for idx in range(len(createBetsDF)):\n",
    "        event_id = createBetsDF.iloc[idx][\"GameID\"].astype(int).item()\n",
    "        event_date = createBetsDF.iloc[idx][\"unixtimestamp\"].astype(int).item()\n",
    "        home_team = createBetsDF.iloc[idx][\"HomeTeamID\"].astype(int).item()\n",
    "        away_team = createBetsDF.iloc[idx][\"AwayTeamID\"].astype(int).item()\n",
    "\n",
    "        if (event_id not in available_events):\n",
    "            nonce_var = w3.eth.get_transaction_count(authorized_wallet) ### Wallet Address from the account publishing the games\n",
    "            betcreation_txn = contract.functions.publishEvent(event_id, event_date, home_team, away_team).buildTransaction({'from': authorized_wallet, 'value': 0,'gas': 12500000,'gasPrice': w3.toWei('5', 'gwei'),'nonce': nonce_var})\n",
    "            signed_txn = w3.eth.account.sign_transaction(betcreation_txn, private_key=authorized_wallet_pk)\n",
    "            result = w3.eth.send_raw_transaction(signed_txn.rawTransaction)\n",
    "            print(f\"result # {idx} - {result.hex()}\")\n",
    "            time.sleep(5)\n",
    "            nonce_var += 1"
   ]
  },
  {
   "cell_type": "code",
   "execution_count": 12,
   "id": "fb93f19a-3cff-49e3-98af-11ce3a786447",
   "metadata": {},
   "outputs": [
    {
     "name": "stderr",
     "output_type": "stream",
     "text": [
      "/var/folders/5x/kls7bqyj73qbq2s9bq7cwn8m0000gn/T/ipykernel_40466/3690980551.py:14: FutureWarning: casting datetime64[ns] values to int64 with .astype(...) is deprecated and will raise in a future version. Use .view(...) instead.\n",
      "  createBetsDF[\"unixtimestamp\"] = pd.to_datetime(createBetsDF[\"DateTime\"]).astype(int)\n",
      "/var/folders/5x/kls7bqyj73qbq2s9bq7cwn8m0000gn/T/ipykernel_40466/3690980551.py:14: SettingWithCopyWarning: \n",
      "A value is trying to be set on a copy of a slice from a DataFrame.\n",
      "Try using .loc[row_indexer,col_indexer] = value instead\n",
      "\n",
      "See the caveats in the documentation: https://pandas.pydata.org/pandas-docs/stable/user_guide/indexing.html#returning-a-view-versus-a-copy\n",
      "  createBetsDF[\"unixtimestamp\"] = pd.to_datetime(createBetsDF[\"DateTime\"]).astype(int)\n"
     ]
    }
   ],
   "source": [
    "load_dotenv(\".env-dev\")\n",
    "gameDate = '12-Aug-2021' ##sys.argv[1]\n",
    "sportsdataIO_key = os.getenv(\"FANTASY_DATA\")\n",
    "network_base_url = os.getenv(\"NETWORK_BASE_URL\")\n",
    "network_pk = os.getenv(\"NETWORK_PK\")\n",
    "smart_contract = os.getenv(\"SMART_CONTRACT\")\n",
    "authorized_wallet = os.getenv(\"AUTHORIZED_WALLET\")\n",
    "authorized_wallet_pk = os.getenv(\"AUTHORIZED_WALLET_PK\")\n",
    "\n",
    "gamesToday = requests.get(f\"https://api.sportsdata.io/v3/mlb/scores/json/GamesByDate/{gameDate}?key=795e9822885d4100a28048652ad1bc8a\")\n",
    "gamesTodayDF = pd.DataFrame(gamesToday.json())\n",
    "\n",
    "createBetsDF = gamesTodayDF[[\"GameID\",\"DateTime\",\"HomeTeamID\",\"AwayTeamID\"]]\n",
    "createBetsDF[\"unixtimestamp\"] = pd.to_datetime(createBetsDF[\"DateTime\"]).astype(int)"
   ]
  },
  {
   "cell_type": "code",
   "execution_count": 13,
   "id": "18a4f79d-a38d-44bc-98d3-36d4d00b484b",
   "metadata": {},
   "outputs": [
    {
     "data": {
      "text/html": [
       "<div>\n",
       "<style scoped>\n",
       "    .dataframe tbody tr th:only-of-type {\n",
       "        vertical-align: middle;\n",
       "    }\n",
       "\n",
       "    .dataframe tbody tr th {\n",
       "        vertical-align: top;\n",
       "    }\n",
       "\n",
       "    .dataframe thead th {\n",
       "        text-align: right;\n",
       "    }\n",
       "</style>\n",
       "<table border=\"1\" class=\"dataframe\">\n",
       "  <thead>\n",
       "    <tr style=\"text-align: right;\">\n",
       "      <th></th>\n",
       "      <th>GameID</th>\n",
       "      <th>DateTime</th>\n",
       "      <th>HomeTeamID</th>\n",
       "      <th>AwayTeamID</th>\n",
       "      <th>unixtimestamp</th>\n",
       "    </tr>\n",
       "  </thead>\n",
       "  <tbody>\n",
       "    <tr>\n",
       "      <th>0</th>\n",
       "      <td>66682</td>\n",
       "      <td>2021-08-12T12:10:00</td>\n",
       "      <td>18</td>\n",
       "      <td>35</td>\n",
       "      <td>1628770200000000000</td>\n",
       "    </tr>\n",
       "    <tr>\n",
       "      <th>1</th>\n",
       "      <td>63081</td>\n",
       "      <td>2021-08-12T12:35:00</td>\n",
       "      <td>4</td>\n",
       "      <td>31</td>\n",
       "      <td>1628771700000000000</td>\n",
       "    </tr>\n",
       "    <tr>\n",
       "      <th>2</th>\n",
       "      <td>63077</td>\n",
       "      <td>2021-08-12T13:05:00</td>\n",
       "      <td>12</td>\n",
       "      <td>1</td>\n",
       "      <td>1628773500000000000</td>\n",
       "    </tr>\n",
       "    <tr>\n",
       "      <th>3</th>\n",
       "      <td>63079</td>\n",
       "      <td>2021-08-12T13:10:00</td>\n",
       "      <td>10</td>\n",
       "      <td>24</td>\n",
       "      <td>1628773800000000000</td>\n",
       "    </tr>\n",
       "    <tr>\n",
       "      <th>4</th>\n",
       "      <td>63078</td>\n",
       "      <td>2021-08-12T14:20:00</td>\n",
       "      <td>9</td>\n",
       "      <td>32</td>\n",
       "      <td>1628778000000000000</td>\n",
       "    </tr>\n",
       "    <tr>\n",
       "      <th>5</th>\n",
       "      <td>63085</td>\n",
       "      <td>2021-08-12T15:40:00</td>\n",
       "      <td>18</td>\n",
       "      <td>35</td>\n",
       "      <td>1628782800000000000</td>\n",
       "    </tr>\n",
       "    <tr>\n",
       "      <th>6</th>\n",
       "      <td>63076</td>\n",
       "      <td>2021-08-12T16:05:00</td>\n",
       "      <td>19</td>\n",
       "      <td>17</td>\n",
       "      <td>1628784300000000000</td>\n",
       "    </tr>\n",
       "    <tr>\n",
       "      <th>7</th>\n",
       "      <td>63082</td>\n",
       "      <td>2021-08-12T16:10:00</td>\n",
       "      <td>25</td>\n",
       "      <td>11</td>\n",
       "      <td>1628784600000000000</td>\n",
       "    </tr>\n",
       "    <tr>\n",
       "      <th>8</th>\n",
       "      <td>63083</td>\n",
       "      <td>2021-08-12T16:10:00</td>\n",
       "      <td>13</td>\n",
       "      <td>28</td>\n",
       "      <td>1628784600000000000</td>\n",
       "    </tr>\n",
       "    <tr>\n",
       "      <th>9</th>\n",
       "      <td>63074</td>\n",
       "      <td>2021-08-12T17:10:00</td>\n",
       "      <td>26</td>\n",
       "      <td>2</td>\n",
       "      <td>1628788200000000000</td>\n",
       "    </tr>\n",
       "    <tr>\n",
       "      <th>10</th>\n",
       "      <td>63779</td>\n",
       "      <td>2021-08-12T19:15:00</td>\n",
       "      <td>16</td>\n",
       "      <td>29</td>\n",
       "      <td>1628795700000000000</td>\n",
       "    </tr>\n",
       "    <tr>\n",
       "      <th>11</th>\n",
       "      <td>63084</td>\n",
       "      <td>2021-08-12T21:38:00</td>\n",
       "      <td>21</td>\n",
       "      <td>3</td>\n",
       "      <td>1628804280000000000</td>\n",
       "    </tr>\n",
       "    <tr>\n",
       "      <th>12</th>\n",
       "      <td>63080</td>\n",
       "      <td>2021-08-12T21:40:00</td>\n",
       "      <td>14</td>\n",
       "      <td>33</td>\n",
       "      <td>1628804400000000000</td>\n",
       "    </tr>\n",
       "    <tr>\n",
       "      <th>13</th>\n",
       "      <td>63075</td>\n",
       "      <td>2021-08-12T21:45:00</td>\n",
       "      <td>15</td>\n",
       "      <td>23</td>\n",
       "      <td>1628804700000000000</td>\n",
       "    </tr>\n",
       "  </tbody>\n",
       "</table>\n",
       "</div>"
      ],
      "text/plain": [
       "    GameID             DateTime  HomeTeamID  AwayTeamID        unixtimestamp\n",
       "0    66682  2021-08-12T12:10:00          18          35  1628770200000000000\n",
       "1    63081  2021-08-12T12:35:00           4          31  1628771700000000000\n",
       "2    63077  2021-08-12T13:05:00          12           1  1628773500000000000\n",
       "3    63079  2021-08-12T13:10:00          10          24  1628773800000000000\n",
       "4    63078  2021-08-12T14:20:00           9          32  1628778000000000000\n",
       "5    63085  2021-08-12T15:40:00          18          35  1628782800000000000\n",
       "6    63076  2021-08-12T16:05:00          19          17  1628784300000000000\n",
       "7    63082  2021-08-12T16:10:00          25          11  1628784600000000000\n",
       "8    63083  2021-08-12T16:10:00          13          28  1628784600000000000\n",
       "9    63074  2021-08-12T17:10:00          26           2  1628788200000000000\n",
       "10   63779  2021-08-12T19:15:00          16          29  1628795700000000000\n",
       "11   63084  2021-08-12T21:38:00          21           3  1628804280000000000\n",
       "12   63080  2021-08-12T21:40:00          14          33  1628804400000000000\n",
       "13   63075  2021-08-12T21:45:00          15          23  1628804700000000000"
      ]
     },
     "execution_count": 13,
     "metadata": {},
     "output_type": "execute_result"
    }
   ],
   "source": [
    "createBetsDF"
   ]
  },
  {
   "cell_type": "code",
   "execution_count": 14,
   "id": "5facd243-595c-4e6c-b677-bdc6d1fffe4b",
   "metadata": {},
   "outputs": [],
   "source": [
    "w3 = Web3(Web3.HTTPProvider(network_base_url+network_pk))\n",
    "contract = w3.eth.contract(smart_contract, abi=abi)\n",
    "nonce_var = w3.eth.get_transaction_count(authorized_wallet) ### Wallet Address from the account publishing the games\n",
    "available_events = contract.functions.getAvailableEvents().call()"
   ]
  },
  {
   "cell_type": "markdown",
   "id": "1e8381e5-c545-4f3b-893e-ff5f571bd9c7",
   "metadata": {},
   "source": [
    "In this step, the company Smartchain.bet will run this script once a day in order to capture the events for the day. In this example we are only capturing MLB games using a demo API from sportsdata.io\n",
    "\n",
    "The only parameter is the date for which the games you would want to load to the blockchain. Please note that this parameter is hardcoded here but in the running script is a parametes from the CLI to provide re-usability."
   ]
  },
  {
   "cell_type": "code",
   "execution_count": 15,
   "id": "5fdd5778-6207-4360-b5b1-ed745f861cd5",
   "metadata": {},
   "outputs": [],
   "source": [
    "gameDate = '12-Aug-2021' ##sys.argv[1]"
   ]
  },
  {
   "cell_type": "markdown",
   "id": "4daab073-d6d6-4d34-a81c-bd5ac0f4fe47",
   "metadata": {},
   "source": [
    "<b><i>loadEvents(gameDate)</i></b> is a function that takes the events from Sportsdata.io and submits them to the blockchain. Returns the hash of the transaction in the corresponding blockchain.\n",
    "\n",
    "This function also validates the existance or not of the event in Python. This was a discovery...we originally had the validation in the Smart Contract, but then realized that even though it was working, the unintended consequences were that we had to paid a minimum amount of gas (due to the way the validation worked, it require to do some processing before checking). So we decided to do this in Python in order to avoid that cost."
   ]
  },
  {
   "cell_type": "code",
   "execution_count": 38,
   "id": "95c93722-c69b-433c-9802-ea65df055b7c",
   "metadata": {},
   "outputs": [
    {
     "name": "stdout",
     "output_type": "stream",
     "text": [
      "result # 11 - 0xc61de808d8b4bfadaf1fa16b6d50120820e0c49a0d2f1fb4809981db68743209\n"
     ]
    }
   ],
   "source": [
    "loadEvents(gameDate)"
   ]
  },
  {
   "cell_type": "markdown",
   "id": "71de404d-eea7-4715-8cf9-34432f2b8e62",
   "metadata": {},
   "source": [
    "if we go to the blockchain to check if the events were loaded correctly:\n",
    "\n",
    "Let's first check the transaction #7 as an example:"
   ]
  },
  {
   "cell_type": "code",
   "execution_count": 39,
   "id": "6509db81-903a-468b-a379-9fe652738d0c",
   "metadata": {},
   "outputs": [
    {
     "data": {
      "text/plain": [
       "GameID                         63076\n",
       "DateTime         2021-08-12T16:05:00\n",
       "HomeTeamID                        19\n",
       "AwayTeamID                        17\n",
       "unixtimestamp    1628784300000000000\n",
       "Name: 6, dtype: object"
      ]
     },
     "execution_count": 39,
     "metadata": {},
     "output_type": "execute_result"
    }
   ],
   "source": [
    "createBetsDF.iloc[6]"
   ]
  },
  {
   "cell_type": "markdown",
   "id": "4779ca09-af77-44a5-9f38-04bc8e823168",
   "metadata": {},
   "source": [
    "Here we can see that the EventID is 63076 (event code provided by Sportsdata.io), the scheduled time of the game, who's local and who's away. Finally I converted the date from datetime to unix timestamp"
   ]
  },
  {
   "cell_type": "markdown",
   "id": "765b0ca9-0d5d-4891-9653-909d53ae0f68",
   "metadata": {},
   "source": [
    "But, that is in Python memory...let's check the blockchain:"
   ]
  },
  {
   "cell_type": "code",
   "execution_count": 41,
   "id": "099c2c6b-b999-47ff-930a-139268953302",
   "metadata": {},
   "outputs": [
    {
     "name": "stdout",
     "output_type": "stream",
     "text": [
      "Number of Events: 14 = [66682, 63079, 63081, 63077, 63076, 63083, 63074, 63779, 63075, 63078, 63082, 63080, 63085, 63084]\n"
     ]
    }
   ],
   "source": [
    "available_events = contract.functions.getAvailableEvents().call()\n",
    "print(f\"Number of Events: {len(available_events)} = {available_events}\")"
   ]
  },
  {
   "cell_type": "markdown",
   "id": "1f395236-7aec-4453-a176-d48d7639bc80",
   "metadata": {},
   "source": [
    "Above we can see that the events are already loaded in the Blockchain :) :) :) !!!!"
   ]
  },
  {
   "cell_type": "markdown",
   "id": "8027856d-8232-436a-bbda-22769b79b2f8",
   "metadata": {},
   "source": [
    "### 2. Opening a bet"
   ]
  },
  {
   "cell_type": "markdown",
   "id": "601575eb-27a7-4e5a-940a-dd0bfeae0087",
   "metadata": {},
   "source": [
    "For the sake of the example, in this case I will \"manually\" enter the transactions through web3. The idea is to simulate what will happen with the front-end GUI.\n",
    "\n",
    "Let's open a bet for 1000000000000 Weis, for the event 63076. Bet for team id 19 to win (timestamp is from the time I am running this)"
   ]
  },
  {
   "cell_type": "code",
   "execution_count": 42,
   "id": "9d66dd9a-f0bf-4414-8b4c-da5d18c0accb",
   "metadata": {},
   "outputs": [
    {
     "data": {
      "text/plain": [
       "{'chainId': 42,\n",
       " 'from': '0xDaf36E4570e2f0A587331b8E1E3645Ce8861B6A5',\n",
       " 'value': 1000000000000,\n",
       " 'gas': 3000000,\n",
       " 'gasPrice': 1000000000,\n",
       " 'nonce': 761,\n",
       " 'to': '0x5C6191D3168C9E337F621a94E41B6d8cad69851C',\n",
       " 'data': '0xebf4718b000000000000000000000000000000000000000000000000000000000001047a000000000000000000000000000000000000000000000000000000000000000100000000000000000000000000000000000000000000000000000000000000010000000000000000000000000000000000000000000000000000000000000012000000000000000000000000000000000000000000000000000000e8d4a51000'}"
      ]
     },
     "execution_count": 42,
     "metadata": {},
     "output_type": "execute_result"
    }
   ],
   "source": [
    "nonce_var = w3.eth.get_transaction_count('0xDaf36E4570e2f0A587331b8E1E3645Ce8861B6A5') ### Wallet Address from the account publishing the games\n",
    "betcreation_txn = contract.functions.OpenBet(66682,1,1,18,1000000000000).buildTransaction({'from': '0xDaf36E4570e2f0A587331b8E1E3645Ce8861B6A5', \n",
    "                                                                                          'value': 1000000000000,'gas': 3000000,'gasPrice': w3.toWei('1', 'gwei'),\n",
    "                                                                                          'nonce': nonce_var})\n",
    "betcreation_txn  "
   ]
  },
  {
   "cell_type": "markdown",
   "id": "46e1dac0-b772-46e7-8a98-640ddf1cd30d",
   "metadata": {},
   "source": [
    "bets before sending the transaction:"
   ]
  },
  {
   "cell_type": "code",
   "execution_count": 43,
   "id": "16e403a7-6070-463f-aab5-6ba03c29db7b",
   "metadata": {},
   "outputs": [
    {
     "name": "stdout",
     "output_type": "stream",
     "text": [
      "Number of Bets: 0 = []\n"
     ]
    }
   ],
   "source": [
    "available_bets = contract.functions.getAvailableBets().call()\n",
    "print(f\"Number of Bets: {len(available_bets)} = {available_bets}\")"
   ]
  },
  {
   "cell_type": "markdown",
   "id": "d13853c1-d425-4022-8ccd-d69a1897a6e6",
   "metadata": {},
   "source": [
    "now we are signing it and send it to the blockchain"
   ]
  },
  {
   "cell_type": "code",
   "execution_count": 44,
   "id": "bf692632-39d2-428d-9fe9-638a5d949dc2",
   "metadata": {},
   "outputs": [
    {
     "name": "stdout",
     "output_type": "stream",
     "text": [
      "result #0x2802d280d88150c425e22ded2ee871d549cb6fcac27246ff35cf7344a1823e58\n"
     ]
    }
   ],
   "source": [
    "signed_txn = w3.eth.account.sign_transaction(betcreation_txn, private_key=authorized_wallet_pk)\n",
    "result = w3.eth.send_raw_transaction(signed_txn.rawTransaction)\n",
    "print(f\"result #{result.hex()}\")"
   ]
  },
  {
   "cell_type": "markdown",
   "id": "3cf857e9-a7e2-4616-960a-961064677f9e",
   "metadata": {},
   "source": [
    "Now we can check that the bets have incremented by 1"
   ]
  },
  {
   "cell_type": "code",
   "execution_count": 45,
   "id": "5dc04ee2-868f-412e-80b8-22278fe9209b",
   "metadata": {},
   "outputs": [
    {
     "name": "stdout",
     "output_type": "stream",
     "text": [
      "Number of Bets: 1 = [1]\n"
     ]
    }
   ],
   "source": [
    "available_bets = contract.functions.getAvailableBets().call()\n",
    "print(f\"Number of Bets: {len(available_bets)} = {available_bets}\")"
   ]
  },
  {
   "cell_type": "markdown",
   "id": "b20534ed-62c7-4037-8dbe-2357959c85a8",
   "metadata": {},
   "source": [
    "### 3. Accepting a bet"
   ]
  },
  {
   "cell_type": "markdown",
   "id": "157834d8-9037-4faf-a7f5-ab649643a412",
   "metadata": {},
   "source": [
    "Now that we posted the bet, we change change wallets"
   ]
  },
  {
   "cell_type": "code",
   "execution_count": 46,
   "id": "a08f83c2-030a-4b0c-8412-ea6431183154",
   "metadata": {},
   "outputs": [],
   "source": [
    "authorized_wallet_2 = os.getenv(\"AUTHORIZED_WALLET_2\")\n",
    "authorized_wallet_pk_2 = os.getenv(\"AUTHORIZED_WALLET_PK_2\")"
   ]
  },
  {
   "cell_type": "code",
   "execution_count": 47,
   "id": "e8e8923d-e356-4d8a-91e4-cf7487d8da0d",
   "metadata": {},
   "outputs": [
    {
     "name": "stdout",
     "output_type": "stream",
     "text": [
      "318\n"
     ]
    }
   ],
   "source": []
  },
  {
   "cell_type": "code",
   "execution_count": 55,
   "id": "56196599-ce9b-4dd3-80d8-26c630eb225f",
   "metadata": {},
   "outputs": [
    {
     "data": {
      "text/plain": [
       "{'chainId': 42,\n",
       " 'from': '0x1c322400C203d634928541a83cf702263e62472A',\n",
       " 'value': 1000000000000,\n",
       " 'gas': 3000000,\n",
       " 'gasPrice': 1000000000,\n",
       " 'nonce': 319,\n",
       " 'to': '0x5C6191D3168C9E337F621a94E41B6d8cad69851C',\n",
       " 'data': '0x9440e63e000000000000000000000000000000000000000000000000000000000001047a00000000000000000000000000000000000000000000000000000000000000010000000000000000000000000000000000000000000000000000000000000010000000000000000000000000000000000000000000000000000000e8d4a51000'}"
      ]
     },
     "execution_count": 55,
     "metadata": {},
     "output_type": "execute_result"
    }
   ],
   "source": [
    "nonce_var = w3.eth.get_transaction_count('0x1c322400C203d634928541a83cf702263e62472A') ### Wallet Address from the account accepting the bet\n",
    "betacceptance_txn = contract.functions.acceptBet(66682,1,16,1000000000000).buildTransaction({'from': '0x1c322400C203d634928541a83cf702263e62472A', \n",
    "                                                                                          'value': 1000000000000,'gas': 3000000,'gasPrice': w3.toWei('1', 'gwei'),\n",
    "                                                                                          'nonce': nonce_var})\n",
    "betacceptance_txn  "
   ]
  },
  {
   "cell_type": "code",
   "execution_count": 56,
   "id": "4f73ccfa-0f58-4fc0-908e-583b400ad8b2",
   "metadata": {},
   "outputs": [
    {
     "name": "stdout",
     "output_type": "stream",
     "text": [
      "Number of Bets: 0 = []\n"
     ]
    }
   ],
   "source": [
    "matched_bets = contract.functions.getMatchedBets().call()\n",
    "print(f\"Number of Bets: {len(matched_bets)} = {matched_bets}\")"
   ]
  },
  {
   "cell_type": "code",
   "execution_count": 57,
   "id": "cf9c2601-a359-4090-812c-fb02b6a657e3",
   "metadata": {},
   "outputs": [
    {
     "name": "stdout",
     "output_type": "stream",
     "text": [
      "result #0x4832898470f6a13722a150df1afdb1eb244b0d204d03c09ca37e883dc4383472\n"
     ]
    }
   ],
   "source": [
    "signed_txn = w3.eth.account.sign_transaction(betacceptance_txn, private_key=authorized_wallet_pk_2)\n",
    "result = w3.eth.send_raw_transaction(signed_txn.rawTransaction)\n",
    "print(f\"result #{result.hex()}\")"
   ]
  },
  {
   "cell_type": "code",
   "execution_count": 59,
   "id": "5bd9011b-d363-4f5f-9ff1-5922e7bbb266",
   "metadata": {},
   "outputs": [
    {
     "name": "stdout",
     "output_type": "stream",
     "text": [
      "Number of Bets: 1 = [1]\n"
     ]
    }
   ],
   "source": [
    "matched_bets = contract.functions.getMatchedBets().call()\n",
    "print(f\"Number of Bets: {len(matched_bets)} = {matched_bets}\")"
   ]
  },
  {
   "cell_type": "markdown",
   "id": "d2eef8cc-be89-45a0-8859-8e824c7eb4b0",
   "metadata": {},
   "source": [
    "### 4. Resolving a bet"
   ]
  },
  {
   "cell_type": "markdown",
   "id": "d97f9f5a-03e0-435a-9fc5-b00106547709",
   "metadata": {},
   "source": [
    "Now that the bet has been accepted, let's assume that the game has happened and that the betInitiator won.\n",
    "\n",
    "Then, we have the method \"resolveBet\" that executes this process.\n",
    "\n",
    "The way this works is that the winner gets transferred the amount of the wage to her/his wallet.\n",
    "\n",
    "Note: this function has a require that only allowed wallets can access and execute it"
   ]
  },
  {
   "cell_type": "code",
   "execution_count": 60,
   "id": "b9448c8d-9f24-4895-ab01-3b678f31bd7c",
   "metadata": {},
   "outputs": [],
   "source": [
    "authorized_wallet_smart = os.getenv(\"AUTHORIZED_WALLET_SMARTCHAIN\")\n",
    "authorized_wallet_pk_smart = os.getenv(\"AUTHORIZED_WALLET_PK_SMARTCHAIN\")"
   ]
  },
  {
   "cell_type": "markdown",
   "id": "6c20d017-2e46-4971-a7fe-194cf96d1a12",
   "metadata": {},
   "source": [
    "Checking for # of Resolved Bets (to show one more was added)"
   ]
  },
  {
   "cell_type": "code",
   "execution_count": 62,
   "id": "4344b754-5775-470d-810e-6a7f471d7052",
   "metadata": {},
   "outputs": [
    {
     "name": "stdout",
     "output_type": "stream",
     "text": [
      "Number of Bets: 0 = []\n"
     ]
    }
   ],
   "source": [
    "resolved_bets = contract.functions.getResolvedBets().call()\n",
    "print(f\"Number of Bets: {len(resolved_bets)} = {resolved_bets}\")"
   ]
  },
  {
   "cell_type": "markdown",
   "id": "2cfc64a8-3d95-40c9-a00b-f4f9502a81ea",
   "metadata": {},
   "source": [
    "Create the transaction:"
   ]
  },
  {
   "cell_type": "code",
   "execution_count": 70,
   "id": "fcc0ec25-e464-4fac-87f1-dc897c6fa711",
   "metadata": {},
   "outputs": [
    {
     "data": {
      "text/plain": [
       "{'chainId': 42,\n",
       " 'from': '0x1c322400C203d634928541a83cf702263e62472A',\n",
       " 'value': 1000000000000,\n",
       " 'gas': 3000000,\n",
       " 'gasPrice': 1000000000,\n",
       " 'nonce': 321,\n",
       " 'to': '0x5C6191D3168C9E337F621a94E41B6d8cad69851C',\n",
       " 'data': '0x28635df0000000000000000000000000000000000000000000000000000000000000f66400000000000000000000000000000000000000000000000000000000000000010000000000000000000000000000000000000000000000000000000000000000'}"
      ]
     },
     "execution_count": 70,
     "metadata": {},
     "output_type": "execute_result"
    }
   ],
   "source": [
    "nonce_var = w3.eth.get_transaction_count('0x1c322400C203d634928541a83cf702263e62472A')\n",
    "resolvebet_txn = contract.functions.resolveBet(63076,1,False).buildTransaction({'from': '0x1c322400C203d634928541a83cf702263e62472A', \n",
    "                                                                                          'value': 1000000000000,'gas': 3000000,'gasPrice': w3.toWei('1', 'gwei'),\n",
    "                                                                                          'nonce': nonce_var})\n",
    "resolvebet_txn  "
   ]
  },
  {
   "cell_type": "code",
   "execution_count": 71,
   "id": "4e618b66-76e3-4b44-8964-eedbde32de13",
   "metadata": {},
   "outputs": [
    {
     "name": "stdout",
     "output_type": "stream",
     "text": [
      "result #0x0b673ac479969a14f34aaa52577da9d157276b12b8cdafb2f09a5456103a1834\n"
     ]
    }
   ],
   "source": [
    "signed_txn = w3.eth.account.sign_transaction(resolvebet_txn, private_key=authorized_wallet_pk_2)\n",
    "result = w3.eth.send_raw_transaction(signed_txn.rawTransaction)\n",
    "print(f\"result #{result.hex()}\")"
   ]
  },
  {
   "cell_type": "code",
   "execution_count": 74,
   "id": "76a674b5-cb97-4e02-a2f6-c122f47e0f60",
   "metadata": {},
   "outputs": [
    {
     "name": "stdout",
     "output_type": "stream",
     "text": [
      "Number of Resolved Bets: 1 = [1]\n"
     ]
    }
   ],
   "source": [
    "resolved_bets = contract.functions.getResolvedBets().call()\n",
    "print(f\"Number of Resolved Bets: {len(resolved_bets)} = {resolved_bets}\")"
   ]
  },
  {
   "cell_type": "markdown",
   "id": "26bb6713-0c5b-4264-bc2c-db4ed7212483",
   "metadata": {},
   "source": [
    "Bet 1 has been resolved!!!!"
   ]
  },
  {
   "cell_type": "markdown",
   "id": "8912467f-c044-47ce-b476-5c973eaae198",
   "metadata": {},
   "source": [
    "Now the status of the Bets is:"
   ]
  },
  {
   "cell_type": "code",
   "execution_count": 75,
   "id": "bc21b4f4-a975-4cae-9107-98303ec89f24",
   "metadata": {},
   "outputs": [
    {
     "name": "stdout",
     "output_type": "stream",
     "text": [
      "Number of Available Bets: 0 = []\n",
      "Number of Matched Bets: 0 = []\n",
      "Number of Resolved Bets: 1 = [1]\n"
     ]
    }
   ],
   "source": [
    "available_bets = contract.functions.getAvailableBets().call()\n",
    "print(f\"Number of Available Bets: {len(available_bets)} = {available_bets}\")\n",
    "\n",
    "matched_bets = contract.functions.getMatchedBets().call()\n",
    "print(f\"Number of Matched Bets: {len(matched_bets)} = {matched_bets}\")\n",
    "\n",
    "resolved_bets = contract.functions.getResolvedBets().call()\n",
    "print(f\"Number of Resolved Bets: {len(resolved_bets)} = {resolved_bets}\")"
   ]
  },
  {
   "cell_type": "markdown",
   "id": "cbd68d93-c5ee-429e-96e0-224de931e5e5",
   "metadata": {},
   "source": [
    "## Special Use Cases\n",
    "\n",
    "### 4. Terminating a Bet"
   ]
  },
  {
   "cell_type": "code",
   "execution_count": 78,
   "id": "15adba17-c501-4365-9b50-4befeca702e3",
   "metadata": {},
   "outputs": [
    {
     "name": "stdout",
     "output_type": "stream",
     "text": [
      "Number of Available Bets: 1 = [2]\n"
     ]
    }
   ],
   "source": [
    "available_bets = contract.functions.getAvailableBets().call()\n",
    "print(f\"Number of Available Bets: {len(available_bets)} = {available_bets}\")"
   ]
  },
  {
   "cell_type": "markdown",
   "id": "8d2ee593-7ce6-440c-9e2b-ee0101a6d565",
   "metadata": {},
   "source": [
    "Let's add a Bet to demonstrate this functionality"
   ]
  },
  {
   "cell_type": "code",
   "execution_count": 76,
   "id": "835f5791-be96-4029-8a9c-b454ac1388f7",
   "metadata": {},
   "outputs": [
    {
     "name": "stdout",
     "output_type": "stream",
     "text": [
      "result #0xf783a6d0ce73b175f5d8dbd7b0448ea65f5df750bd805c0dfd618b5f6ae23ecb\n"
     ]
    }
   ],
   "source": [
    "nonce_var = w3.eth.get_transaction_count('0xDaf36E4570e2f0A587331b8E1E3645Ce8861B6A5')\n",
    "betcreation_txn = contract.functions.OpenBet(63076,1,2,19,1000000000000).buildTransaction({'from': '0xDaf36E4570e2f0A587331b8E1E3645Ce8861B6A5', \n",
    "                                                                                          'value': 1000000000000,'gas': 3000000,'gasPrice': w3.toWei('1', 'gwei'),\n",
    "                                                                                          'nonce': nonce_var})\n",
    "signed_txn = w3.eth.account.sign_transaction(betcreation_txn, private_key=authorized_wallet_pk)\n",
    "result = w3.eth.send_raw_transaction(signed_txn.rawTransaction)\n",
    "print(f\"result #{result.hex()}\")"
   ]
  },
  {
   "cell_type": "code",
   "execution_count": 79,
   "id": "db802dab-0d31-4745-bb64-1617d3ca1fbd",
   "metadata": {},
   "outputs": [
    {
     "name": "stdout",
     "output_type": "stream",
     "text": [
      "Number of Available Bets: 1 = [2]\n"
     ]
    }
   ],
   "source": [
    "available_bets = contract.functions.getAvailableBets().call()\n",
    "print(f\"Number of Available Bets: {len(available_bets)} = {available_bets}\")"
   ]
  },
  {
   "cell_type": "markdown",
   "id": "1e61fef0-5dff-4ab8-9df8-54ead1302ee0",
   "metadata": {},
   "source": [
    "Let's terminate Bet #2"
   ]
  },
  {
   "cell_type": "code",
   "execution_count": 89,
   "id": "dd5e7292-5eb0-4572-871a-bc97b64f41e8",
   "metadata": {},
   "outputs": [
    {
     "data": {
      "text/plain": [
       "{'chainId': 42,\n",
       " 'from': '0xDaf36E4570e2f0A587331b8E1E3645Ce8861B6A5',\n",
       " 'value': 0,\n",
       " 'gas': 3000000,\n",
       " 'gasPrice': 1000000000,\n",
       " 'nonce': 763,\n",
       " 'to': '0x5C6191D3168C9E337F621a94E41B6d8cad69851C',\n",
       " 'data': '0xa5cf1bd00000000000000000000000000000000000000000000000000000000000000002'}"
      ]
     },
     "execution_count": 89,
     "metadata": {},
     "output_type": "execute_result"
    }
   ],
   "source": [
    "nonce_var = w3.eth.get_transaction_count('0xDaf36E4570e2f0A587331b8E1E3645Ce8861B6A5') ### Wallet Address from the account publishing the games\n",
    "terminatebet_txn = contract.functions.terminateOne(2).buildTransaction({'from': '0xDaf36E4570e2f0A587331b8E1E3645Ce8861B6A5', \n",
    "                                                                                  'value': 0,'gas': 3000000,'gasPrice': w3.toWei('1', 'gwei'),\n",
    "                                                                                  'nonce': nonce_var})\n",
    "terminatebet_txn  "
   ]
  },
  {
   "cell_type": "code",
   "execution_count": 91,
   "id": "dcdfa25c-b6a1-4f33-92c9-6616a6cca9a2",
   "metadata": {},
   "outputs": [
    {
     "name": "stdout",
     "output_type": "stream",
     "text": [
      "result #0x9651ac1d0453dd6f14dd2774bb001c0a7ac1024230270933eb79712b9fa9604f\n"
     ]
    }
   ],
   "source": [
    "signed_txn = w3.eth.account.sign_transaction(terminatebet_txn, private_key=authorized_wallet_pk)\n",
    "result = w3.eth.send_raw_transaction(signed_txn.rawTransaction)\n",
    "print(f\"result #{result.hex()}\")"
   ]
  },
  {
   "cell_type": "code",
   "execution_count": 93,
   "id": "84cb18af-409d-4957-ae58-1cd9449b2adc",
   "metadata": {},
   "outputs": [
    {
     "name": "stdout",
     "output_type": "stream",
     "text": [
      "Number of Available Bets: 0 = []\n"
     ]
    }
   ],
   "source": [
    "available_bets = contract.functions.getAvailableBets().call()\n",
    "print(f\"Number of Available Bets: {len(available_bets)} = {available_bets}\")"
   ]
  },
  {
   "cell_type": "markdown",
   "id": "c9f8fe5c-54d0-4082-ada3-02e70ef8b546",
   "metadata": {},
   "source": [
    "### 5. Terminating a All Bets"
   ]
  },
  {
   "cell_type": "code",
   "execution_count": 94,
   "id": "3d534d8b-dd76-4c18-af7b-3665becfe6e2",
   "metadata": {},
   "outputs": [
    {
     "name": "stdout",
     "output_type": "stream",
     "text": [
      "Number of Available Bets: 0 = []\n"
     ]
    }
   ],
   "source": [
    "available_bets = contract.functions.getAvailableBets().call()\n",
    "print(f\"Number of Available Bets: {len(available_bets)} = {available_bets}\")"
   ]
  },
  {
   "cell_type": "markdown",
   "id": "e55f4725-7d3a-4c9f-a7be-cce3c8a4e9ab",
   "metadata": {},
   "source": [
    "Let's add some bets in order to demonstrate the functionality"
   ]
  },
  {
   "cell_type": "code",
   "execution_count": 95,
   "id": "3b0a4e69-c7f9-421b-bba9-38021839eef4",
   "metadata": {},
   "outputs": [
    {
     "name": "stdout",
     "output_type": "stream",
     "text": [
      "result #0xa27cf90fcf89459374aa88ab29995e314c6bcd9b5ca7f824766aac1f5c63217c\n"
     ]
    }
   ],
   "source": [
    "nonce_var = w3.eth.get_transaction_count('0xDaf36E4570e2f0A587331b8E1E3645Ce8861B6A5')\n",
    "betcreation_txn = contract.functions.OpenBet(63076,5,3,19,1000000000000).buildTransaction({'from': '0xDaf36E4570e2f0A587331b8E1E3645Ce8861B6A5', \n",
    "                                                                                          'value': 1000000000000,'gas': 3000000,'gasPrice': w3.toWei('1', 'gwei'),\n",
    "                                                                                          'nonce': nonce_var})\n",
    "signed_txn = w3.eth.account.sign_transaction(betcreation_txn, private_key=authorized_wallet_pk)\n",
    "result = w3.eth.send_raw_transaction(signed_txn.rawTransaction)\n",
    "print(f\"result #{result.hex()}\")"
   ]
  },
  {
   "cell_type": "code",
   "execution_count": 97,
   "id": "e4e14be2-9e6c-4107-815d-940c6806f510",
   "metadata": {},
   "outputs": [
    {
     "name": "stdout",
     "output_type": "stream",
     "text": [
      "result #0x620ec8c96e9eeec60b4d8e2bd5a9c9dc4d1b4f113107e16be24727a9ab375865\n"
     ]
    }
   ],
   "source": [
    "nonce_var = w3.eth.get_transaction_count('0xDaf36E4570e2f0A587331b8E1E3645Ce8861B6A5')\n",
    "betcreation_txn = contract.functions.OpenBet(63076,5,4,19,1000000000000).buildTransaction({'from': '0xDaf36E4570e2f0A587331b8E1E3645Ce8861B6A5', \n",
    "                                                                                          'value': 1000000000000,'gas': 3000000,'gasPrice': w3.toWei('1', 'gwei'),\n",
    "                                                                                          'nonce': nonce_var})\n",
    "signed_txn = w3.eth.account.sign_transaction(betcreation_txn, private_key=authorized_wallet_pk)\n",
    "result = w3.eth.send_raw_transaction(signed_txn.rawTransaction)\n",
    "print(f\"result #{result.hex()}\")\n",
    "time.sleep(2)"
   ]
  },
  {
   "cell_type": "code",
   "execution_count": 98,
   "id": "9ddca961-cadb-4667-a23a-0a93c2063b15",
   "metadata": {},
   "outputs": [
    {
     "name": "stdout",
     "output_type": "stream",
     "text": [
      "result #0x5e1ba33588cd4ca6f40eec6b5ccad5d8d80b6992fd907a64a61838e759fc9118\n"
     ]
    }
   ],
   "source": [
    "nonce_var = w3.eth.get_transaction_count('0xDaf36E4570e2f0A587331b8E1E3645Ce8861B6A5')\n",
    "betcreation_txn = contract.functions.OpenBet(63076,5,5,10,1000000000000).buildTransaction({'from': '0xDaf36E4570e2f0A587331b8E1E3645Ce8861B6A5', \n",
    "                                                                                          'value': 1000000000000,'gas': 3000000,'gasPrice': w3.toWei('1', 'gwei'),\n",
    "                                                                                          'nonce': nonce_var})\n",
    "signed_txn = w3.eth.account.sign_transaction(betcreation_txn, private_key=authorized_wallet_pk)\n",
    "result = w3.eth.send_raw_transaction(signed_txn.rawTransaction)\n",
    "print(f\"result #{result.hex()}\")\n",
    "time.sleep(2)"
   ]
  },
  {
   "cell_type": "code",
   "execution_count": 101,
   "id": "e8547ccf-9f05-4985-8256-058117a722ed",
   "metadata": {},
   "outputs": [
    {
     "name": "stdout",
     "output_type": "stream",
     "text": [
      "Number of Available Bets: 3 = [3, 4, 5]\n"
     ]
    }
   ],
   "source": [
    "available_bets = contract.functions.getAvailableBets().call()\n",
    "print(f\"Number of Available Bets: {len(available_bets)} = {available_bets}\")"
   ]
  },
  {
   "cell_type": "markdown",
   "id": "8934f355-646a-4508-bf59-8de5ba9ef80d",
   "metadata": {},
   "source": [
    "Now let's call the terminateAll method from the smart contract:"
   ]
  },
  {
   "cell_type": "code",
   "execution_count": 102,
   "id": "f3cf696d-924e-44e3-bb5e-87d055099de1",
   "metadata": {},
   "outputs": [
    {
     "data": {
      "text/plain": [
       "{'chainId': 42,\n",
       " 'from': '0xDaf36E4570e2f0A587331b8E1E3645Ce8861B6A5',\n",
       " 'value': 0,\n",
       " 'gas': 3000000,\n",
       " 'gasPrice': 1000000000,\n",
       " 'nonce': 768,\n",
       " 'to': '0x5C6191D3168C9E337F621a94E41B6d8cad69851C',\n",
       " 'data': '0x4f984c5c'}"
      ]
     },
     "execution_count": 102,
     "metadata": {},
     "output_type": "execute_result"
    }
   ],
   "source": [
    "nonce_var = w3.eth.get_transaction_count('0xDaf36E4570e2f0A587331b8E1E3645Ce8861B6A5')\n",
    "terminateallbets_txn = contract.functions.terminateAll().buildTransaction({'from': '0xDaf36E4570e2f0A587331b8E1E3645Ce8861B6A5', \n",
    "                                                                                  'value': 0,'gas': 3000000,'gasPrice': w3.toWei('1', 'gwei'),\n",
    "                                                                                  'nonce': nonce_var})\n",
    "terminateallbets_txn  "
   ]
  },
  {
   "cell_type": "code",
   "execution_count": 104,
   "id": "98f68712-cab1-41bc-85d1-84149da91e67",
   "metadata": {},
   "outputs": [
    {
     "name": "stdout",
     "output_type": "stream",
     "text": [
      "result #0x13d1bd9302efb027f0e7f7b8654a278f8163454e847497dc5b7fca95f9712873\n"
     ]
    }
   ],
   "source": [
    "signed_txn = w3.eth.account.sign_transaction(terminateallbets_txn, private_key=authorized_wallet_pk)\n",
    "result = w3.eth.send_raw_transaction(signed_txn.rawTransaction)\n",
    "print(f\"result #{result.hex()}\")"
   ]
  },
  {
   "cell_type": "markdown",
   "id": "29a6b0e3-6765-4431-8116-977eeb9f32c6",
   "metadata": {},
   "source": [
    "Then we can see that all bets were eliminated"
   ]
  },
  {
   "cell_type": "code",
   "execution_count": 107,
   "id": "846687a6-aef8-4d79-a7d0-d42e28d1c313",
   "metadata": {},
   "outputs": [
    {
     "name": "stdout",
     "output_type": "stream",
     "text": [
      "Number of Available Bets: 0 = []\n"
     ]
    }
   ],
   "source": [
    "available_bets = contract.functions.getAvailableBets().call()\n",
    "print(f\"Number of Available Bets: {len(available_bets)} = {available_bets}\")"
   ]
  },
  {
   "cell_type": "code",
   "execution_count": null,
   "id": "e3658795-ae50-4e13-a170-eb9c3b82a329",
   "metadata": {},
   "outputs": [],
   "source": []
  }
 ],
 "metadata": {
  "kernelspec": {
   "display_name": "smartchain",
   "language": "python",
   "name": "smartchain"
  },
  "language_info": {
   "codemirror_mode": {
    "name": "ipython",
    "version": 3
   },
   "file_extension": ".py",
   "mimetype": "text/x-python",
   "name": "python",
   "nbconvert_exporter": "python",
   "pygments_lexer": "ipython3",
   "version": "3.8.10"
  }
 },
 "nbformat": 4,
 "nbformat_minor": 5
}
